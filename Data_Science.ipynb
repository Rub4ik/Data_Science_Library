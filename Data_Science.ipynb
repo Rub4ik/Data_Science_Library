{
  "cells": [
    {
      "cell_type": "markdown",
      "metadata": {
        "id": "view-in-github",
        "colab_type": "text"
      },
      "source": [
        "<a href=\"https://colab.research.google.com/github/Rub4ik/Data_Science_Library/blob/main/Data_Science.ipynb\" target=\"_parent\"><img src=\"https://colab.research.google.com/assets/colab-badge.svg\" alt=\"Open In Colab\"/></a>"
      ]
    },
    {
      "cell_type": "markdown",
      "source": [
        "# -*- coding: utf-8 -*-\n",
        "\n",
        "\"\"\"\n",
        "Data Science Project Template for Google Colab & GitHub\n",
        "\n",
        "This notebook provides a basic template for a data science project in Google Colab,\n",
        "along with instructions on how to integrate it with GitHub for version control.\n",
        "\"\"\""
      ],
      "metadata": {
        "id": "R0bfsH0Mkw6A"
      }
    },
    {
      "cell_type": "markdown",
      "source": [
        "# 1. Import Essential Data Science Libraries\n",
        "# These are fundamental libraries for data manipulation, analysis, and visualization."
      ],
      "metadata": {
        "id": "3jOsFEfjk4aQ"
      }
    },
    {
      "cell_type": "code",
      "source": [
        "import pandas as pd # For data manipulation and analysis\n",
        "import numpy as np  # For numerical operations\n",
        "\n",
        "import matplotlib.pyplot as plt # For creating static, interactive, and animated visualizations\n",
        "import seaborn as sns           # For statistical data visualization based on matplotlib\n",
        "\n",
        "from sklearn.model_selection import train_test_split # For splitting data into training and testing sets\n",
        "from sklearn.linear_model import LinearRegression    # Example model\n",
        "from sklearn.metrics import mean_squared_error       # Example evaluation metric"
      ],
      "outputs": [],
      "execution_count": 5,
      "metadata": {
        "id": "P0q3gxGhkGl4"
      }
    },
    {
      "cell_type": "code",
      "source": [
        "print(\"--- Essential Libraries Imported Successfully ---\")\n",
        "print(f\"Pandas version: {pd.__version__}\")\n",
        "print(f\"NumPy version: {np.__version__}\")\n",
        "print(f\"matplotlib {np.__version__}\")\n",
        "print(f\"Seaborn version: {sns.__version__}\")\n",
        "# Scikit-learn doesn't have a direct __version__ attribute in the main module,\n",
        "# but you can check it by importing a submodule if needed.\n",
        "# For simplicity, we'll skip direct sklearn version print here.\n",
        "print(\"\\n\")"
      ],
      "metadata": {
        "colab": {
          "base_uri": "https://localhost:8080/"
        },
        "id": "8gwSHcnIlAhw",
        "outputId": "29f09d67-101c-440f-bc18-23d75ac9a84f"
      },
      "execution_count": 10,
      "outputs": [
        {
          "output_type": "stream",
          "name": "stdout",
          "text": [
            "--- Essential Libraries Imported Successfully ---\n",
            "Pandas version: 2.2.2\n",
            "NumPy version: 2.0.2\n",
            "matplotlib 2.0.2\n",
            "Seaborn version: 0.13.2\n",
            "\n",
            "\n"
          ]
        }
      ]
    },
    {
      "cell_type": "markdown",
      "source": [
        "# 2. Load Sample Data (or your own data)\n",
        "# You can replace this with your own dataset.\n",
        "# If your data is on Google Drive, you'll need to mount it first"
      ],
      "metadata": {
        "id": "90yeKoRwlniB"
      }
    },
    {
      "cell_type": "code",
      "source": [
        "# Example: Create a dummy DataFrame\n",
        "\n",
        "data = {\n",
        "    'Feature_1': np.random.rand(100) * 10,\n",
        "    'Feature_2': np.random.rand(100) * 5,\n",
        "    'Target': (np.random.rand(100) * 7) + (np.random.rand(100) * 3) + 5\n",
        "}\n",
        "df = pd.DataFrame(data)\n",
        "\n",
        "print(\"--- Sample DataFrame Created ---\")\n",
        "print(df.head())\n",
        "print(f\"Shape of DataFrame: {df.shape}\")\n",
        "print(\"\\n\")\n"
      ],
      "metadata": {
        "colab": {
          "base_uri": "https://localhost:8080/"
        },
        "id": "2sW5Q-PEloNg",
        "outputId": "a9b84600-9d89-4d64-c002-237b6fb268d9"
      },
      "execution_count": 11,
      "outputs": [
        {
          "output_type": "stream",
          "name": "stdout",
          "text": [
            "--- Sample DataFrame Created ---\n",
            "   Feature_1  Feature_2     Target\n",
            "0   3.066407   0.788070  10.709544\n",
            "1   4.563765   1.846968   8.860545\n",
            "2   4.233909   0.738827  13.881115\n",
            "3   5.153070   3.851379   9.456462\n",
            "4   5.753901   1.159301   9.042255\n",
            "Shape of DataFrame: (100, 3)\n",
            "\n",
            "\n"
          ]
        }
      ]
    },
    {
      "cell_type": "markdown",
      "source": [
        "# 3. Basic Data Exploration"
      ],
      "metadata": {
        "id": "BQ4O6tBqlza4"
      }
    },
    {
      "cell_type": "code",
      "source": [
        "print(\"--- Basic Data Exploration ---\")\n",
        "print(\"DataFrame Info:\")\n",
        "df.info()\n",
        "print(\"\\n\")\n",
        "\n",
        "print(\"Descriptive Statistics:\")\n",
        "print(df.describe())\n",
        "print(\"\\n\")\n",
        "\n",
        "print(\"Checking for missing values:\")\n",
        "print(df.isnull().sum())\n",
        "print(\"\\n\")"
      ],
      "metadata": {
        "colab": {
          "base_uri": "https://localhost:8080/"
        },
        "id": "h-5PygeSluvd",
        "outputId": "10e0114e-3c1e-4574-ce44-8ddcb3561992"
      },
      "execution_count": 12,
      "outputs": [
        {
          "output_type": "stream",
          "name": "stdout",
          "text": [
            "--- Basic Data Exploration ---\n",
            "DataFrame Info:\n",
            "<class 'pandas.core.frame.DataFrame'>\n",
            "RangeIndex: 100 entries, 0 to 99\n",
            "Data columns (total 3 columns):\n",
            " #   Column     Non-Null Count  Dtype  \n",
            "---  ------     --------------  -----  \n",
            " 0   Feature_1  100 non-null    float64\n",
            " 1   Feature_2  100 non-null    float64\n",
            " 2   Target     100 non-null    float64\n",
            "dtypes: float64(3)\n",
            "memory usage: 2.5 KB\n",
            "\n",
            "\n",
            "Descriptive Statistics:\n",
            "        Feature_1   Feature_2      Target\n",
            "count  100.000000  100.000000  100.000000\n",
            "mean     5.090126    2.350542    9.924845\n",
            "std      2.723650    1.393326    1.998417\n",
            "min      0.031688    0.014380    5.506128\n",
            "25%      3.050967    1.213571    8.409804\n",
            "50%      5.178385    2.210740    9.858131\n",
            "75%      7.388511    3.625116   11.508578\n",
            "max      9.806927    4.939376   13.927072\n",
            "\n",
            "\n",
            "Checking for missing values:\n",
            "Feature_1    0\n",
            "Feature_2    0\n",
            "Target       0\n",
            "dtype: int64\n",
            "\n",
            "\n"
          ]
        }
      ]
    },
    {
      "cell_type": "markdown",
      "source": [
        "# 4. Simple Data Visualization"
      ],
      "metadata": {
        "id": "KqhSuQsFl7Ng"
      }
    },
    {
      "cell_type": "code",
      "source": [
        "print(\"--- Simple Data Visualization ---\")\n",
        "# Scatter plot of Feature_1 vs Target\n",
        "sns.histplot(df['Feature_2'], kde=True)\n",
        "plt.title('Histogram of Feature_2')\n",
        "plt.xlabel('Feature 2')\n",
        "plt.ylabel('Frequency')\n",
        "plt.grid(True)\n",
        "plt.show()\n",
        "print(\"\\n\")"
      ],
      "metadata": {
        "colab": {
          "base_uri": "https://localhost:8080/",
          "height": 524
        },
        "id": "C8Md3ZOul3nl",
        "outputId": "0f87d61e-ddc7-4d01-dc58-86206ed9ef21"
      },
      "execution_count": 15,
      "outputs": [
        {
          "output_type": "stream",
          "name": "stdout",
          "text": [
            "--- Simple Data Visualization ---\n"
          ]
        },
        {
          "output_type": "display_data",
          "data": {
            "text/plain": [
              "<Figure size 640x480 with 1 Axes>"
            ],
            "image/png": "[encoded data removed]"
          },
          "metadata": {}
        },
        {
          "output_type": "stream",
          "name": "stdout",
          "text": [
            "\n",
            "\n"
          ]
        }
      ]
    },
    {
      "cell_type": "markdown",
      "source": [
        "# Histogram of Feature_2"
      ],
      "metadata": {
        "id": "xrLi7n01maPf"
      }
    },
    {
      "cell_type": "code",
      "source": [
        "plt.figure(figsize=(8, 6))\n",
        "sns.histplot(df['Feature_2'], kde=True)\n",
        "plt.title('Histogram of Feature_2')\n",
        "plt.xlabel('Feature 2')\n",
        "plt.ylabel('Frequency')\n",
        "plt.grid(True)\n",
        "plt.show()\n",
        "print(\"\\n\")"
      ],
      "metadata": {
        "colab": {
          "base_uri": "https://localhost:8080/",
          "height": 599
        },
        "id": "AnsUCtPBmK4n",
        "outputId": "6bb36657-8d44-4bdb-8a6c-6e5d170de7c1"
      },
      "execution_count": 16,
      "outputs": [
        {
          "output_type": "display_data",
          "data": {
            "text/plain": [
              "<Figure size 800x600 with 1 Axes>"
            ],
            "image/png": "[encoded data removed]"
          },
          "metadata": {}
        },
        {
          "output_type": "stream",
          "name": "stdout",
          "text": [
            "\n",
            "\n"
          ]
        }
      ]
    },
    {
      "cell_type": "markdown",
      "source": [
        "# 5. Basic Machine Learning Example\n",
        "## A very simple linear regression model"
      ],
      "metadata": {
        "id": "9beIf4MXmhwA"
      }
    },
    {
      "cell_type": "code",
      "source": [
        "print(\"--- Basic Machine Learning Example ---\")\n",
        "\n",
        "X = df[['Feature_1', 'Feature_2']] # Features\n",
        "y = df['Target']                   # Target variable\n",
        "\n",
        "# Split data into training and testing sets\n",
        "X_train, X_test, y_train, y_test = train_test_split(X, y, test_size=0.2, random_state=42)\n",
        "\n",
        "print(f\"Training data shape: {X_train.shape}, {y_train.shape}\")\n",
        "print(f\"Testing data shape: {X_test.shape}, {y_test.shape}\")\n",
        "\n",
        "# Initialize and train a Linear Regression model\n",
        "model = LinearRegression()\n",
        "model.fit(X_train, y_train)\n",
        "\n",
        "# Make predictions\n",
        "y_pred = model.predict(X_test)"
      ],
      "metadata": {
        "colab": {
          "base_uri": "https://localhost:8080/"
        },
        "id": "0NC1C0RQmcL0",
        "outputId": "f046aaad-c5c0-4d71-e53d-88de3e79bec0"
      },
      "execution_count": 17,
      "outputs": [
        {
          "output_type": "stream",
          "name": "stdout",
          "text": [
            "--- Basic Machine Learning Example ---\n",
            "Training data shape: (80, 2), (80,)\n",
            "Testing data shape: (20, 2), (20,)\n"
          ]
        }
      ]
    },
    {
      "cell_type": "markdown",
      "source": [
        "# Evaluate the model"
      ],
      "metadata": {
        "id": "5H1psx5Bm0KQ"
      }
    },
    {
      "cell_type": "code",
      "source": [
        "mse = mean_squared_error(y_test, y_pred)\n",
        "rmse = np.sqrt(mse)\n",
        "\n",
        "print(f\"\\nModel Coefficients: {model.coef_}\")\n",
        "print(f\"Model Intercept: {model.intercept_}\")\n",
        "print(f\"Mean Squared Error (MSE): {mse:.2f}\")\n",
        "print(f\"Root Mean Squared Error (RMSE): {rmse:.2f}\")\n",
        "print(\"\\n\")"
      ],
      "metadata": {
        "colab": {
          "base_uri": "https://localhost:8080/"
        },
        "id": "F3jqC3ZAmt2f",
        "outputId": "c86aa351-0e37-4296-8e8f-59dbeb83846a"
      },
      "execution_count": 18,
      "outputs": [
        {
          "output_type": "stream",
          "name": "stdout",
          "text": [
            "\n",
            "Model Coefficients: [ 0.07469469 -0.09293688]\n",
            "Model Intercept: 9.76603592743585\n",
            "Mean Squared Error (MSE): 3.88\n",
            "Root Mean Squared Error (RMSE): 1.97\n",
            "\n",
            "\n"
          ]
        }
      ]
    },
    {
      "cell_type": "code",
      "source": [],
      "metadata": {
        "id": "vEb1u6BZnQP9"
      },
      "execution_count": null,
      "outputs": []
    }
  ],
  "metadata": {
    "colab": {
      "provenance": [],
      "gpuType": "T4",
      "include_colab_link": true
    },
    "kernelspec": {
      "display_name": "Python 3",
      "name": "python3"
    },
    "accelerator": "GPU"
  },
  "nbformat": 4,
  "nbformat_minor": 0
}